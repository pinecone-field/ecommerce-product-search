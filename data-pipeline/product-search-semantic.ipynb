{
 "cells": [
  {
   "cell_type": "markdown",
   "metadata": {},
   "source": [
    "# Uninstall all existing python packages in the runtime\n",
    "This is a brute force way to make sure that the python runtime doesn't have any package/version conflicts. "
   ]
  },
  {
   "cell_type": "code",
   "execution_count": null,
   "metadata": {},
   "outputs": [],
   "source": [
    "!pip freeze > requirements.txt\n",
    "!cat requirements.txt | xargs -n 1 pip uninstall -y"
   ]
  },
  {
   "cell_type": "markdown",
   "metadata": {},
   "source": [
    "# Install dependencies \n",
    "Use the following shell command to install the pinecone client and llama-index for data ingestion. This notebook uses:\n",
    "\n",
    "1. pinecone-client - for vector db upserts and queries\n",
    "2. python-dotenv - for setting environment variables for openai and pinecone"
   ]
  },
  {
   "cell_type": "code",
   "execution_count": null,
   "metadata": {},
   "outputs": [],
   "source": [
    "!pip install -U \"pinecone-client[grpc]\" \"python-dotenv\" "
   ]
  },
  {
   "cell_type": "markdown",
   "metadata": {},
   "source": [
    "# OpenAI and Pinecone Settings"
   ]
  },
  {
   "cell_type": "code",
   "execution_count": null,
   "metadata": {},
   "outputs": [],
   "source": [
    "import openai\n",
    "import os\n",
    "from dotenv import load_dotenv\n",
    "from tenacity import retry, wait_random_exponential, stop_after_attempt, retry_if_not_exception_type\n",
    "\n",
    "load_dotenv('.env')\n",
    "\n",
    "EMBEDDING_MODEL = 'text-embedding-ada-002'\n",
    "EMBEDDING_CTX_LENGTH = 8191\n",
    "EMBEDDING_ENCODING = 'cl100k_base'\n",
    "\n",
    "PINECONE_API_KEY = os.environ['PINECONE_API_KEY']\n",
    "PINECONE_ENVIRONMENT = os.environ['PINECONE_ENVIRONMENT']\n",
    "METRIC = os.environ['METRIC']\n",
    "DIMENSIONS = int(os.environ['DIMENSIONS'])"
   ]
  },
  {
   "cell_type": "markdown",
   "metadata": {},
   "source": [
    "# Read CSV and concatenate fields into a single text field for embeddings"
   ]
  },
  {
   "cell_type": "code",
   "execution_count": null,
   "metadata": {},
   "outputs": [],
   "source": [
    "import pandas as pd\n",
    "# Read 'icecat products.csv' into a pandas dataframe\n",
    "df = pd.read_csv('icecat_products.csv')\n",
    "\n",
    "# concatenate name, title, short_description, and supplier to create a new column called 'text' but only include each column if it is not null or NAN\n",
    "df['text'] = df['name'].fillna('') + ' ' + df['title'].fillna('') + ' ' + df['short_description'].fillna('') + ' ' + df['supplier'].fillna('')\n",
    "df.head()\n",
    "\n",
    "df['text'][0]"
   ]
  },
  {
   "cell_type": "code",
   "execution_count": null,
   "metadata": {},
   "outputs": [],
   "source": [
    "# Exponential retry with a 20 second cap and 6 attempts\n",
    "@retry(wait=wait_random_exponential(min=1, max=20), stop=stop_after_attempt(6), retry=retry_if_not_exception_type(openai.InvalidRequestError))\n",
    "def get_embedding(text_or_tokens, model=EMBEDDING_MODEL):\n",
    "    embedding_list = []\n",
    "    result =  openai.Embedding.create(input=text_or_tokens, model=model).get('data')\n",
    "    for i in range(len(text_or_tokens)):\n",
    "        embedding_list.append(result[i]['embedding'])\n",
    "    return embedding_list\n",
    "\n",
    "# Define the batch size and number of batches\n",
    "batch_size = 1000\n",
    "num_batches = len(df) // batch_size + (1 if len(df) % batch_size else 0)\n",
    "\n",
    "# Create an empty list to collect the embeddings\n",
    "vectors = []\n",
    "\n",
    "# Define a function to get the embedding for a batch of texts\n",
    "for i in range(num_batches):\n",
    "    batch_texts = df['text'][i*batch_size:(i+1)*batch_size].tolist()  # Convert to list\n",
    "    vectors.extend(get_embedding(batch_texts))\n",
    "    print(i)\n",
    "\n",
    "# Assign the embeddings list to the 'vector' column\n",
    "df['vector'] = vectors\n"
   ]
  },
  {
   "cell_type": "markdown",
   "metadata": {},
   "source": [
    "# Save file to parquet for use in preparation to go to verizon_process_dataframe_for_pinecone.ipynb"
   ]
  },
  {
   "cell_type": "code",
   "execution_count": null,
   "metadata": {},
   "outputs": [],
   "source": [
    "# This contains text, title, short_description, and supplier\n",
    "df.to_parquet('icecat_products.parquet', index=False)"
   ]
  },
  {
   "cell_type": "code",
   "execution_count": null,
   "metadata": {},
   "outputs": [],
   "source": [
    "# read top 10 rows of the dataframe\n",
    "df.head()"
   ]
  },
  {
   "cell_type": "markdown",
   "metadata": {},
   "source": [
    "# Process metadata and vectors in preparation for loading to Pinecone"
   ]
  },
  {
   "cell_type": "code",
   "execution_count": null,
   "metadata": {},
   "outputs": [],
   "source": [
    "# Assuming df_icecat is your existing DataFrame\n",
    "# Replace the NaN, None, or null values with an empty string in the required columns\n",
    "df.fillna({'name':'', 'title':'', 'short_description':'', 'supplier':'', 'img_high':'', 'img_low':'','img_thumb':'','img_500x500':''}, inplace=True)\n",
    "\n",
    "# Function to create metadata dictionary\n",
    "def create_metadata(row):\n",
    "    return {\n",
    "        'name': row['name'],\n",
    "        'title': row['title'],\n",
    "        'short_description': row['short_description'],\n",
    "        'supplier': row['supplier'],\n",
    "        'img_high': row['img_high'],\n",
    "        'img_low': row['img_low'],\n",
    "        'img_thumb': row['img_thumb'],\n",
    "        'img_500x500': row['img_500x500']\n",
    "    }\n",
    "\n",
    "# Apply the function to each row of df_icecat to create the metadata column\n",
    "df['metadata'] = df.apply(create_metadata, axis=1)\n",
    "\n",
    "# Convert the 'id' column to string\n",
    "df['id'] = df['id'].astype(str)\n",
    "\n",
    "# Create df_icecate_2 DataFrame by selecting and renaming the required columns\n",
    "df_2 = df[['id', 'vector', 'metadata']].rename(columns={'vector': 'values'})"
   ]
  },
  {
   "cell_type": "code",
   "execution_count": null,
   "metadata": {},
   "outputs": [],
   "source": [
    "df_2.head()"
   ]
  },
  {
   "cell_type": "markdown",
   "metadata": {},
   "source": [
    "# Begin loading to Pinecone"
   ]
  },
  {
   "cell_type": "code",
   "execution_count": null,
   "metadata": {},
   "outputs": [],
   "source": [
    "import pinecone\n",
    "\n",
    "index_name = 'verizon-products-1'\n",
    "\n",
    "pinecone.init(api_key=PINECONE_API_KEY, environment=PINECONE_ENVIRONMENT)\n",
    "\n",
    "if (index_name in pinecone.list_indexes()) != True:  \n",
    "    pinecone.create_index(index_name, dimension=DIMENSIONS, metric=METRIC, pods=1, replicas=1, pod_type=\"p1.x1\")\n",
    "else:\n",
    "    print(f\"Index {index_name} already exists\")\n",
    "\n",
    "print(f\"Index Description: {pinecone.describe_index(name=index_name)}\")\n",
    "\n",
    "index = pinecone.GRPCIndex(index_name=index_name)"
   ]
  },
  {
   "cell_type": "markdown",
   "metadata": {},
   "source": [
    "# Load Option #1 (GRPC Only)"
   ]
  },
  {
   "cell_type": "code",
   "execution_count": null,
   "metadata": {},
   "outputs": [],
   "source": [
    "index.delete(delete_all=True)"
   ]
  },
  {
   "cell_type": "code",
   "execution_count": null,
   "metadata": {},
   "outputs": [],
   "source": [
    "%%time\n",
    "import time\n",
    "\n",
    "# Chunk this dataset into 100000 document chunks and append to an array\n",
    "chunks = []\n",
    "for i in range(0, len(df_2), 100000):\n",
    "    chunks.append(df_2[i:i+100000])\n",
    "\n",
    "# Upsert each chunk into the index\n",
    "for chunk in chunks:\n",
    "    index.upsert_from_dataframe(chunk, show_progress=True, batch_size=300)"
   ]
  },
  {
   "cell_type": "markdown",
   "metadata": {},
   "source": [
    "# Load Option #2 (GRPC + Multiprocessing)"
   ]
  },
  {
   "cell_type": "code",
   "execution_count": null,
   "metadata": {},
   "outputs": [],
   "source": [
    "%%time\n",
    "\n",
    "import pandas as pd\n",
    "import itertools\n",
    "from multiprocessing import Pool, cpu_count\n",
    "import upsert_module  # Import the module containing your upsert_data function\n",
    "from functools import partial\n",
    "\n",
    "def chunk_dataframe(df, n):\n",
    "    \"\"\"\n",
    "    Split a DataFrame into smaller chunks.\n",
    "    :param df: DataFrame to split.\n",
    "    :param n: Number of rows for each chunk.\n",
    "    :return: List of DataFrame chunks.\n",
    "    \"\"\"\n",
    "    return [df.iloc[i:i + n] for i in range(0, len(df), n)]\n",
    "\n",
    "# Assuming vectors_to_upsert is already defined somewhere\n",
    "chunk_size = 300  # Define the chunk size based on your preference\n",
    "chunks = chunk_dataframe(df_2, chunk_size)\n",
    "\n",
    "# Using functools.partial to pass additional parameters\n",
    "partial_function = partial(upsert_module.upsert_data, index_name=index_name, environment=PINECONE_ENVIRONMENT, api_key=PINECONE_API_KEY)\n",
    "\n",
    "with Pool(processes=cpu_count()) as pool:\n",
    "    results = pool.map(partial_function, chunks)"
   ]
  },
  {
   "cell_type": "markdown",
   "metadata": {},
   "source": [
    "# Query"
   ]
  },
  {
   "cell_type": "code",
   "execution_count": null,
   "metadata": {},
   "outputs": [],
   "source": [
    "import openai\n",
    "\n",
    "EMBEDDING_MODEL = 'text-embedding-ada-002'\n",
    "EMBEDDING_CTX_LENGTH = 8191\n",
    "EMBEDDING_ENCODING = 'cl100k_base'"
   ]
  },
  {
   "cell_type": "code",
   "execution_count": null,
   "metadata": {},
   "outputs": [],
   "source": [
    "def get_embedding(text_or_tokens, model=EMBEDDING_MODEL):\n",
    "    embedding_list = []\n",
    "    result =  openai.Embedding.create(input=text_or_tokens, model=model).get('data')\n",
    "    for i in range(len(text_or_tokens)):\n",
    "        embedding_list.append(result[i]['embedding'])\n",
    "    return embedding_list"
   ]
  },
  {
   "cell_type": "code",
   "execution_count": null,
   "metadata": {},
   "outputs": [],
   "source": [
    "response = get_embedding(['ipood green third generation kase for runing'])\n",
    "#response = get_embedding(['water camera case for Sony SPK-HCE'])\n",
    "search_results = index.query(response[0], top_k=5, include_metadata=True)"
   ]
  },
  {
   "cell_type": "markdown",
   "metadata": {},
   "source": [
    "# Result"
   ]
  },
  {
   "cell_type": "code",
   "execution_count": null,
   "metadata": {},
   "outputs": [],
   "source": [
    "for i in search_results.get('matches'):\n",
    "    supplier = i.get('metadata').get('supplier')\n",
    "    title = i.get('metadata').get('title')\n",
    "    short_description = i.get('metadata').get('short_description')\n",
    "    score = i.get('score')\n",
    "\n",
    "    print('Supplier: ', supplier)\n",
    "    print('Title: ', title)\n",
    "    print('Short Description: ', short_description)\n",
    "    print('Score: ', score)\n",
    "    print('------------------')"
   ]
  }
 ],
 "metadata": {
  "kernelspec": {
   "display_name": "Python 3",
   "language": "python",
   "name": "python3"
  },
  "language_info": {
   "codemirror_mode": {
    "name": "ipython",
    "version": 3
   },
   "file_extension": ".py",
   "mimetype": "text/x-python",
   "name": "python",
   "nbconvert_exporter": "python",
   "pygments_lexer": "ipython3",
   "version": "3.11.3"
  },
  "orig_nbformat": 4
 },
 "nbformat": 4,
 "nbformat_minor": 2
}
