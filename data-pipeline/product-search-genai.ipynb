{
 "cells": [
  {
   "cell_type": "markdown",
   "metadata": {},
   "source": [
    "[![Open In Colab](https://colab.research.google.com/assets/colab-badge.svg)](https://colab.research.google.com/github/pinecone-field/ecommerce-product-search/blob/main/data-pipeline/product-search-genai.ipynb)"
   ]
  },
  {
   "cell_type": "markdown",
   "metadata": {},
   "source": [
    "# Install dependencies \n",
    "Use the following shell command to install the pinecone client and llama-index for data ingestion. This notebook uses:\n",
    "\n",
    "1. pinecone-client - for vector db upserts and queries\n",
    "2. python-dotenv - for setting environment variables for openai and pinecone\n",
    "3. llama-index and llama-hub - data pipeline framework that ingests a 150K record csv into pinecone. Also provides query wrappers for pinecone and openai."
   ]
  },
  {
   "cell_type": "code",
   "execution_count": null,
   "metadata": {},
   "outputs": [],
   "source": [
    "!pip install -U \"pinecone-client[grpc]\" \"python-dotenv\" \"llama-index\" \"llama-hub\" \"cohere\"\n",
    "!pip freeze > requirements.txt"
   ]
  },
  {
   "cell_type": "markdown",
   "metadata": {},
   "source": [
    "# Download the e-commerce product data set"
   ]
  },
  {
   "cell_type": "code",
   "execution_count": null,
   "metadata": {},
   "outputs": [],
   "source": [
    "import requests\n",
    "\n",
    "url = \"https://github.com/pinecone-field/ecommerce-product-search/blob/main/data-pipeline/icecat_products.csv?raw=true\"\n",
    "response = requests.get(url)\n",
    "with open(\"icecat_products.csv\", \"wb\") as file:\n",
    "  file.write(response.content)\n",
    "print(\"downloaded product dataset\")"
   ]
  },
  {
   "cell_type": "markdown",
   "metadata": {},
   "source": [
    "# Create Pinecone index "
   ]
  },
  {
   "cell_type": "code",
   "execution_count": 12,
   "metadata": {},
   "outputs": [
    {
     "name": "stdout",
     "output_type": "stream",
     "text": [
      ".env file was successfully loaded\n"
     ]
    },
    {
     "ename": "KeyboardInterrupt",
     "evalue": "",
     "output_type": "error",
     "traceback": [
      "\u001b[0;31m---------------------------------------------------------------------------\u001b[0m",
      "\u001b[0;31mKeyboardInterrupt\u001b[0m                         Traceback (most recent call last)",
      "\u001b[1;32m/Users/williamsj/PycharmProjects/ecommerce-product-search/data-pipeline/product-search-genai.ipynb Cell 7\u001b[0m line \u001b[0;36m2\n\u001b[1;32m     <a href='vscode-notebook-cell:/Users/williamsj/PycharmProjects/ecommerce-product-search/data-pipeline/product-search-genai.ipynb#W5sZmlsZQ%3D%3D?line=20'>21</a>\u001b[0m pinecone\u001b[39m.\u001b[39minit(api_key\u001b[39m=\u001b[39mPINECONE_API_KEY, environment\u001b[39m=\u001b[39mPINECONE_ENVIRONMENT)\n\u001b[1;32m     <a href='vscode-notebook-cell:/Users/williamsj/PycharmProjects/ecommerce-product-search/data-pipeline/product-search-genai.ipynb#W5sZmlsZQ%3D%3D?line=22'>23</a>\u001b[0m \u001b[39mif\u001b[39;00m (PINECONE_INDEX_NAME \u001b[39min\u001b[39;00m pinecone\u001b[39m.\u001b[39mlist_indexes()) \u001b[39m!=\u001b[39m \u001b[39mTrue\u001b[39;00m:  \n\u001b[0;32m---> <a href='vscode-notebook-cell:/Users/williamsj/PycharmProjects/ecommerce-product-search/data-pipeline/product-search-genai.ipynb#W5sZmlsZQ%3D%3D?line=23'>24</a>\u001b[0m     pinecone\u001b[39m.\u001b[39;49mcreate_index(PINECONE_INDEX_NAME, dimension\u001b[39m=\u001b[39;49mDIMENSIONS, metric\u001b[39m=\u001b[39;49mMETRIC, pods\u001b[39m=\u001b[39;49m\u001b[39m2\u001b[39;49m, replicas\u001b[39m=\u001b[39;49m\u001b[39m1\u001b[39;49m, pod_type\u001b[39m=\u001b[39;49m\u001b[39m\"\u001b[39;49m\u001b[39mp1.x1\u001b[39;49m\u001b[39m\"\u001b[39;49m)\n\u001b[1;32m     <a href='vscode-notebook-cell:/Users/williamsj/PycharmProjects/ecommerce-product-search/data-pipeline/product-search-genai.ipynb#W5sZmlsZQ%3D%3D?line=24'>25</a>\u001b[0m \u001b[39melse\u001b[39;00m:\n\u001b[1;32m     <a href='vscode-notebook-cell:/Users/williamsj/PycharmProjects/ecommerce-product-search/data-pipeline/product-search-genai.ipynb#W5sZmlsZQ%3D%3D?line=25'>26</a>\u001b[0m     \u001b[39mprint\u001b[39m(\u001b[39mf\u001b[39m\u001b[39m\"\u001b[39m\u001b[39mIndex \u001b[39m\u001b[39m{\u001b[39;00mPINECONE_INDEX_NAME\u001b[39m}\u001b[39;00m\u001b[39m already exists\u001b[39m\u001b[39m\"\u001b[39m)\n",
      "File \u001b[0;32m/Library/Frameworks/Python.framework/Versions/3.11/lib/python3.11/site-packages/pinecone/manage.py:141\u001b[0m, in \u001b[0;36mcreate_index\u001b[0;34m(name, dimension, timeout, index_type, metric, replicas, shards, pods, pod_type, index_config, metadata_config, source_collection)\u001b[0m\n\u001b[1;32m    139\u001b[0m \u001b[39mif\u001b[39;00m timeout \u001b[39mis\u001b[39;00m \u001b[39mNone\u001b[39;00m:\n\u001b[1;32m    140\u001b[0m     \u001b[39mwhile\u001b[39;00m \u001b[39mnot\u001b[39;00m is_ready():\n\u001b[0;32m--> 141\u001b[0m         time\u001b[39m.\u001b[39;49msleep(\u001b[39m5\u001b[39;49m)\n\u001b[1;32m    142\u001b[0m \u001b[39melse\u001b[39;00m:\n\u001b[1;32m    143\u001b[0m     \u001b[39mwhile\u001b[39;00m (\u001b[39mnot\u001b[39;00m is_ready()) \u001b[39mand\u001b[39;00m timeout \u001b[39m>\u001b[39m\u001b[39m=\u001b[39m \u001b[39m0\u001b[39m:\n",
      "\u001b[0;31mKeyboardInterrupt\u001b[0m: "
     ]
    }
   ],
   "source": [
    "from dotenv import load_dotenv\n",
    "import os\n",
    "import pinecone\n",
    "\n",
    "loaded = load_dotenv('.env')\n",
    "\n",
    "if loaded:\n",
    "    print(\".env file was successfully loaded\")\n",
    "    PINECONE_INDEX_NAME = os.environ['PINECONE_INDEX_NAME']\n",
    "    PINECONE_API_KEY = os.environ['PINECONE_API_KEY']\n",
    "    PINECONE_ENVIRONMENT = os.environ['PINECONE_ENVIRONMENT']\n",
    "    OPENAI_API_KEY = os.environ['OPENAI_API_KEY']\n",
    "else:\n",
    "    print(\".env file was not found or could not be loaded\")\n",
    "    PINECONE_INDEX_NAME = input(\"Enter pinecone index name: \")\n",
    "    PINECONE_API_KEY = input(\"Enter pinecone api key: \")\n",
    "    PINECONE_ENVIRONMENT = input(\"Enter pinecone environment: \")\n",
    "    OPENAI_API_KEY = input(\"Enter openai api key: \")\n",
    "\n",
    "METRIC = \"cosine\"\n",
    "DIMENSIONS = 1536\n",
    "\n",
    "pinecone.init(api_key=PINECONE_API_KEY, environment=PINECONE_ENVIRONMENT)\n",
    "\n",
    "if (PINECONE_INDEX_NAME in pinecone.list_indexes()) != True:  \n",
    "    pinecone.create_index(PINECONE_INDEX_NAME, dimension=DIMENSIONS, metric=METRIC, pods=2, replicas=1, pod_type=\"p1.x1\")\n",
    "else:\n",
    "    print(f\"Index {PINECONE_INDEX_NAME} already exists\")\n",
    "\n",
    "print(f\"Index Description: {pinecone.describe_index(name=PINECONE_INDEX_NAME)}\")\n",
    "\n",
    "pinecone_index = pinecone.GRPCIndex(index_name=PINECONE_INDEX_NAME)"
   ]
  },
  {
   "cell_type": "markdown",
   "metadata": {},
   "source": [
    "# Parse CSV into llama_index \n",
    "\n",
    "1. Load csv file\n",
    "2. Attach metadata that can be used in pinecone queries\n",
    "3. End result is a list of `nodes` that can be upserted into pinecone with a simple vector_store.add() call"
   ]
  },
  {
   "cell_type": "code",
   "execution_count": null,
   "metadata": {},
   "outputs": [],
   "source": [
    "from pathlib import Path\n",
    "from llama_index.schema import TextNode\n",
    "from llama_index.node_parser import SimpleNodeParser\n",
    "from tqdm.auto import tqdm \n",
    "from datetime import datetime\n",
    "from llama_index import download_loader\n",
    "\n",
    "parser = SimpleNodeParser.from_defaults()\n",
    "\n",
    "PagedCSVReader = download_loader(\"PagedCSVReader\")\n",
    "\n",
    "loader = PagedCSVReader(encoding=\"utf-8\")\n",
    "documents = loader.load_data(file=Path('./icecat_products.csv'))\n",
    "\n",
    "def get_metadata(docText):\n",
    "    data_dict = {}\n",
    "    for line in docText.strip().split('\\n'):\n",
    "        if line.startswith('price') == True:\n",
    "            try:\n",
    "                key, value = line.split(': ', 1)\n",
    "                data_dict[key] = float(value)\n",
    "            except:\n",
    "                pass\n",
    "        elif line.startswith('date_released') == True:\n",
    "            try:\n",
    "                key, value = line.split(': ', 1)\n",
    "                date_obj = datetime.strptime(value, \"%Y-%m-%dT%H:%M:%SZ\")\n",
    "                new_date_obj = datetime(date_obj.year, date_obj.month, date_obj.day)\n",
    "                unix_timestamp = int(new_date_obj.timestamp())\n",
    "                data_dict[key] = unix_timestamp\n",
    "            except:\n",
    "                pass\n",
    "        elif line.startswith('ean') == False:\n",
    "            try:\n",
    "                key, value = line.split(': ', 1)\n",
    "                data_dict[key] = value\n",
    "            except:\n",
    "                pass\n",
    "    return data_dict\n",
    "\n",
    "nodes = []\n",
    "\n",
    "for doc in tqdm(documents, total=len(documents)):\n",
    "    node = TextNode(\n",
    "        text=doc.text\n",
    "    )\n",
    "    \n",
    "    node.metadata = get_metadata(doc.text)\n",
    "    nodes.append(node)\n",
    "\n",
    "print(nodes[0].text)\n",
    "print(nodes[0].metadata)"
   ]
  },
  {
   "cell_type": "markdown",
   "metadata": {},
   "source": [
    "# Generate keyword and question/answer examples for a subset of the data\n",
    "\n",
    "This takes a long time to run and is an expensive token operation. The main reason it is included is to show the full power of llama_index paired with Pinecone"
   ]
  },
  {
   "cell_type": "code",
   "execution_count": null,
   "metadata": {},
   "outputs": [],
   "source": [
    "from llama_index.node_parser.extractors import MetadataExtractor, QuestionsAnsweredExtractor, KeywordExtractor\n",
    "from llama_index.llms import OpenAI\n",
    "import random\n",
    "\n",
    "llm = OpenAI(model=\"gpt-3.5-turbo\")\n",
    "\n",
    "metadata_extractor = MetadataExtractor(\n",
    "    extractors=[\n",
    "        KeywordExtractor(nodes=5, llm=llm),\n",
    "        QuestionsAnsweredExtractor(questions=3, llm=llm),\n",
    "    ],\n",
    "    in_place=False,\n",
    ")\n",
    "\n",
    "test_query_suggestions = metadata_extractor.process_nodes(random.sample(nodes, 3))\n",
    "for tqs in test_query_suggestions:\n",
    "    print(f\"id: {tqs.metadata['id']}\")\n",
    "    print(f\"name: {tqs.metadata['name']}\")\n",
    "    print(f\"title: {tqs.metadata['title']}\")\n",
    "    print(f\"short_description: {tqs.metadata['short_description']}\")\n",
    "    print('-' * 100)\n",
    "    print(f\"keywords: {tqs.metadata['excerpt_keywords']}\")\n",
    "    print(f\"questions this excerpt can answer:\\n{tqs.metadata['questions_this_excerpt_can_answer']}\\n\")\n",
    "  "
   ]
  },
  {
   "cell_type": "markdown",
   "metadata": {},
   "source": [
    "# Generate vector embeddings for all records\n",
    "\n",
    "1. This takes a long time to run ~20 minutes because openai batch embeddings are slow\n",
    "2. OpenAI embeddings are retrieved in batches using this method `get_text_embedding_batch()`\n",
    "3. Using asyncio because it can handle a large number of concurrent tasks efficiently due to it's nonblocking nature"
   ]
  },
  {
   "cell_type": "code",
   "execution_count": null,
   "metadata": {},
   "outputs": [],
   "source": [
    "from llama_index.embeddings import OpenAIEmbedding\n",
    "import asyncio\n",
    "\n",
    "batch_size = 200\n",
    "embed_model = OpenAIEmbedding(embed_batch_size=batch_size)\n",
    "num_batches = (len(nodes) + batch_size - 1) // batch_size  # Calculate the number of batches\n",
    "\n",
    "async def process_batch(nodes, start, end, embed_model):\n",
    "    batch = nodes[start:end]\n",
    "    batch_embeddings = embed_model.get_text_embedding_batch([node.text for node in batch])\n",
    "\n",
    "    for node, embedding in zip(batch, batch_embeddings):\n",
    "        node.embedding = embedding\n",
    "    \n",
    "    print(f\"embeddings retrieved from OpenAI: {start} - {end}\")\n",
    "    \n",
    "# Process batches asynchronously\n",
    "async def process_batches(nodes):\n",
    "    tasks = []\n",
    "    for i in range(num_batches):\n",
    "        start = i * batch_size\n",
    "        end = min((i + 1) * batch_size, len(nodes))\n",
    "        task = process_batch(nodes, start, end, embed_model)\n",
    "        tasks.append(task)\n",
    "\n",
    "    await asyncio.gather(*tasks)\n",
    "\n",
    "await process_batches(nodes)"
   ]
  },
  {
   "cell_type": "markdown",
   "metadata": {},
   "source": [
    "# Upsert vector embeddings+metadata into Pinecone for all records\n",
    "\n",
    "1. Using asyncio because it can handle a large number of concurrent tasks efficiently due to it's nonblocking nature\n",
    "2. The rest of the "
   ]
  },
  {
   "cell_type": "code",
   "execution_count": null,
   "metadata": {},
   "outputs": [],
   "source": [
    "import asyncio\n",
    "\n",
    "async def upsert_batch(nodes, start, end):\n",
    "    batch = nodes[start:end]\n",
    "    vectors = []\n",
    "    \n",
    "    for node in batch:\n",
    "        vectors.append((node.node_id, node.embedding, node.metadata))\n",
    "        \n",
    "    pinecone_index.upsert(batch_size=batch_size, vectors=vectors, show_progress=False)\n",
    "    print(f\"embeddings upserted to Pinecone: {start} - {end}\")\n",
    "\n",
    "async def upsert_batches(nodes):\n",
    "    tasks = []\n",
    "    for i in range(num_batches):\n",
    "        start = i * batch_size\n",
    "        end = min((i + 1) * batch_size, len(nodes))\n",
    "        task = upsert_batch(nodes, start, end)\n",
    "        tasks.append(task)\n",
    "\n",
    "    await asyncio.gather(*tasks)\n",
    "\n",
    "await upsert_batches(nodes)"
   ]
  },
  {
   "cell_type": "markdown",
   "metadata": {},
   "source": [
    "# Same core functionality as asyncio approach [SKIP]\n",
    "\n",
    "1. Limited to 10 concurrent connections (safest to use pool size of 10)\n",
    "2. Runs in ~9 mins vs ~2 minutes for asyncio based approach\n",
    "3. Included for completeness b/c pinecone docs recommend this approach for batched upserts"
   ]
  },
  {
   "cell_type": "code",
   "execution_count": null,
   "metadata": {},
   "outputs": [],
   "source": [
    "import itertools\n",
    "\n",
    "vectors = []\n",
    "    \n",
    "for node in nodes:\n",
    "    vectors.append((node.node_id, node.embedding, node.metadata))\n",
    "\n",
    "def chunks(iterable, batch_size=100):\n",
    "    \"\"\"A helper function to break an iterable into chunks of size batch_size.\"\"\"\n",
    "    it = iter(iterable)\n",
    "    chunk = tuple(itertools.islice(it, batch_size))\n",
    "    while chunk:\n",
    "        yield chunk\n",
    "        chunk = tuple(itertools.islice(it, batch_size))\n",
    "\n",
    "\n",
    "with pinecone.Index(PINECONE_INDEX_NAME, pool_threads=10) as index:\n",
    "    # Send requests in parallel\n",
    "    async_results = [\n",
    "        index.upsert(vectors=vector_chunk, async_req=True)\n",
    "        for vector_chunk in chunks(vectors, batch_size=100)\n",
    "    ]\n",
    "    # Wait for and retrieve responses (this raises in case of error)\n",
    "    [async_result.get() for async_result in async_results]"
   ]
  },
  {
   "cell_type": "code",
   "execution_count": null,
   "metadata": {},
   "outputs": [],
   "source": [
    "#pinecone_index.delete(delete_all=True)"
   ]
  },
  {
   "cell_type": "markdown",
   "metadata": {},
   "source": [
    "# [OPTIONAL] Uninstall all existing python packages in the runtime\n",
    "This is a brute force way to make sure that the python runtime doesn't have any package/version conflicts. "
   ]
  },
  {
   "cell_type": "code",
   "execution_count": null,
   "metadata": {},
   "outputs": [],
   "source": [
    "!pip freeze > requirements.txt\n",
    "!cat requirements.txt | xargs -n 1 pip uninstall -y"
   ]
  }
 ],
 "metadata": {
  "kernelspec": {
   "display_name": "Python 3",
   "language": "python",
   "name": "python3"
  },
  "language_info": {
   "codemirror_mode": {
    "name": "ipython",
    "version": 3
   },
   "file_extension": ".py",
   "mimetype": "text/x-python",
   "name": "python",
   "nbconvert_exporter": "python",
   "pygments_lexer": "ipython3",
   "version": "3.11.3"
  },
  "orig_nbformat": 4
 },
 "nbformat": 4,
 "nbformat_minor": 2
}
