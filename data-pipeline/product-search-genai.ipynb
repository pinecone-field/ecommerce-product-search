{
 "cells": [
  {
   "cell_type": "markdown",
   "metadata": {},
   "source": [
    "# Uninstall all existing python packages in the runtime\n",
    "This is a brute force way to make sure that the python runtime doesn't have any package/version conflicts. "
   ]
  },
  {
   "cell_type": "code",
   "execution_count": null,
   "metadata": {},
   "outputs": [],
   "source": [
    "!pip freeze > requirements.txt\n",
    "!cat requirements.txt | xargs -n 1 pip uninstall -y"
   ]
  },
  {
   "cell_type": "markdown",
   "metadata": {},
   "source": [
    "# Install dependencies \n",
    "Use the following shell command to install the pinecone client and llama-index for data ingestion. This notebook uses:\n",
    "\n",
    "1. pinecone-client - for vector db upserts and queries\n",
    "2. python-dotenv - for setting environment variables for openai and pinecone\n",
    "3. llama-index and llama-hub - data pipeline framework that ingests a 150K record csv into pinecone. Also provides query wrappers for pinecone and openai."
   ]
  },
  {
   "cell_type": "code",
   "execution_count": null,
   "metadata": {},
   "outputs": [],
   "source": [
    "!pip install -U \"pinecone-client[grpc]\" \"python-dotenv\" \"llama-index\" \"llama-hub\" \n",
    "!pip freeze > requirements.txt"
   ]
  },
  {
   "cell_type": "markdown",
   "metadata": {},
   "source": [
    "# Create Pinecone index and llama_index vector store wrapper"
   ]
  },
  {
   "cell_type": "code",
   "execution_count": null,
   "metadata": {},
   "outputs": [],
   "source": [
    "from dotenv import load_dotenv\n",
    "import os\n",
    "import pinecone\n",
    "\n",
    "load_dotenv('.env')\n",
    "\n",
    "PINECONE_INDEX_NAME = os.environ['PINECONE_INDEX_NAME']\n",
    "PINECONE_API_KEY = os.environ['PINECONE_API_KEY']\n",
    "PINECONE_ENVIRONMENT = os.environ['PINECONE_ENVIRONMENT']\n",
    "METRIC = os.environ['METRIC']\n",
    "DIMENSIONS = int(os.environ['DIMENSIONS'])\n",
    "\n",
    "pinecone.init(api_key=PINECONE_API_KEY, environment=PINECONE_ENVIRONMENT)\n",
    "\n",
    "if (PINECONE_INDEX_NAME in pinecone.list_indexes()) != True:  \n",
    "    pinecone.create_index(PINECONE_INDEX_NAME, dimension=DIMENSIONS, metric=METRIC, pods=1, replicas=1, pod_type=\"p1.x1\")\n",
    "else:\n",
    "    print(f\"Index {PINECONE_INDEX_NAME} already exists\")\n",
    "\n",
    "print(f\"Index Description: {pinecone.describe_index(name=PINECONE_INDEX_NAME)}\")\n",
    "\n",
    "pinecone_index = pinecone.Index(PINECONE_INDEX_NAME)\n"
   ]
  },
  {
   "cell_type": "markdown",
   "metadata": {},
   "source": [
    "# Parse CSV into llama_index \n",
    "\n",
    "1. Load csv file\n",
    "2. Attach metadata that can be used in pinecone queries\n",
    "3. End result is a list of `nodes` that can be upserted into pinecone with a simple vector_store.add() call"
   ]
  },
  {
   "cell_type": "code",
   "execution_count": null,
   "metadata": {},
   "outputs": [],
   "source": [
    "from pathlib import Path\n",
    "from llama_index.schema import TextNode\n",
    "from llama_index.node_parser import SimpleNodeParser\n",
    "from tqdm.auto import tqdm \n",
    "from datetime import datetime\n",
    "from llama_index import download_loader\n",
    "\n",
    "parser = SimpleNodeParser.from_defaults()\n",
    "\n",
    "PagedCSVReader = download_loader(\"PagedCSVReader\")\n",
    "\n",
    "loader = PagedCSVReader(encoding=\"utf-8\")\n",
    "documents = loader.load_data(file=Path('./icecat_products.csv'))\n",
    "\n",
    "def get_metadata(docText):\n",
    "    data_dict = {}\n",
    "    for line in docText.strip().split('\\n'):\n",
    "        if line.startswith('price') == True:\n",
    "            try:\n",
    "                key, value = line.split(': ', 1)\n",
    "                data_dict[key] = float(value)\n",
    "            except:\n",
    "                pass\n",
    "        elif line.startswith('date_released') == True:\n",
    "            try:\n",
    "                key, value = line.split(': ', 1)\n",
    "                date_obj = datetime.strptime(value, \"%Y-%m-%dT%H:%M:%SZ\")\n",
    "                new_date_obj = datetime(date_obj.year, date_obj.month, date_obj.day)\n",
    "                unix_timestamp = int(new_date_obj.timestamp())\n",
    "                data_dict[key] = unix_timestamp\n",
    "            except:\n",
    "                pass\n",
    "        elif line.startswith('ean') == False:\n",
    "            try:\n",
    "                key, value = line.split(': ', 1)\n",
    "                data_dict[key] = value\n",
    "            except:\n",
    "                pass\n",
    "    return data_dict\n",
    "\n",
    "nodes = []\n",
    "\n",
    "for doc in tqdm(documents, total=len(documents)):\n",
    "    node = TextNode(\n",
    "        text=doc.text\n",
    "    )\n",
    "    \n",
    "    node.metadata = get_metadata(doc.text)\n",
    "    nodes.append(node)\n",
    "\n",
    "print(nodes[0].text)\n",
    "print(nodes[0].metadata)"
   ]
  },
  {
   "cell_type": "markdown",
   "metadata": {},
   "source": [
    "# Generate keyword and question/answer examples for a subset of the data\n",
    "\n",
    "This takes a long time to run and is an expensive token operation. The main reason it is included is to show the full power of llama_index paired with Pinecone"
   ]
  },
  {
   "cell_type": "code",
   "execution_count": null,
   "metadata": {},
   "outputs": [],
   "source": [
    "from llama_index.node_parser.extractors import MetadataExtractor, QuestionsAnsweredExtractor, KeywordExtractor\n",
    "from llama_index.llms import OpenAI\n",
    "import random\n",
    "\n",
    "llm = OpenAI(model=\"gpt-3.5-turbo\")\n",
    "\n",
    "metadata_extractor = MetadataExtractor(\n",
    "    extractors=[\n",
    "        KeywordExtractor(nodes=5, llm=llm),\n",
    "        QuestionsAnsweredExtractor(questions=3, llm=llm),\n",
    "    ],\n",
    "    in_place=False,\n",
    ")\n",
    "\n",
    "test_query_suggestions = metadata_extractor.process_nodes(random.sample(nodes, 3))\n",
    "for tqs in test_query_suggestions:\n",
    "    print(f\"id: {tqs.metadata['id']}, name: {tqs.metadata['name']}\")\n",
    "    print(f\"keywords: {tqs.metadata['excerpt_keywords']}\")\n",
    "    print(f\"questions this excerpt can answer:\\n{tqs.metadata['questions_this_excerpt_can_answer']}\\n\")\n",
    "  "
   ]
  },
  {
   "cell_type": "markdown",
   "metadata": {},
   "source": [
    "# Generate vector embeddings for all records\n",
    "\n",
    "1. This takes a long time to run ~40 minutes because openai batch embeddings are slow\n",
    "2. TODO - Need to explore parallizing the code \n",
    "3. TODO - Need to expore using `get_text_embedding_batch()`"
   ]
  },
  {
   "cell_type": "code",
   "execution_count": null,
   "metadata": {},
   "outputs": [],
   "source": [
    "from llama_index.embeddings import OpenAIEmbedding\n",
    "from llama_index.vector_stores import PineconeVectorStore\n",
    "from llama_index.schema import MetadataMode\n",
    "\n",
    "batch_size = 100\n",
    "embed_model = OpenAIEmbedding(embed_batch_size=batch_size)\n",
    "pinecone_vector_store = PineconeVectorStore(pinecone_index=pinecone_index, batch_size=batch_size)\n",
    "\n",
    "# Calculate the number of batches\n",
    "num_batches = len(nodes) // batch_size + (1 if len(nodes) % batch_size else 0)\n",
    "# Get the embeddings for a batch of nodes\n",
    "for i in tqdm(range(num_batches), total=num_batches):\n",
    "    batch = nodes[i * batch_size : (i + 1) * batch_size]\n",
    "    batch_embeddings = embed_model.get_text_embedding_batch(\n",
    "        [node.text for node in batch]\n",
    "    )\n",
    "    \n",
    "    for node, embedding in zip(batch, batch_embeddings):\n",
    "        node.embedding = embedding\n",
    "    \n",
    "    pinecone_vector_store.add(batch)\n"
   ]
  },
  {
   "cell_type": "markdown",
   "metadata": {},
   "source": [
    "# OPTIONAL - If the data pipeline partially processes\n",
    "1. Find out which percentage of batches failed\n",
    "2. Change `percentage_to_reprocess` to the desired re-process percentage"
   ]
  },
  {
   "cell_type": "code",
   "execution_count": null,
   "metadata": {},
   "outputs": [],
   "source": [
    "from llama_index.embeddings import OpenAIEmbedding\n",
    "from llama_index.vector_stores import PineconeVectorStore\n",
    "from llama_index.schema import MetadataMode\n",
    "\n",
    "batch_size = 100\n",
    "embed_model = OpenAIEmbedding(embed_batch_size=batch_size)\n",
    "pinecone_vector_store = PineconeVectorStore(pinecone_index=pinecone_index, batch_size=batch_size)\n",
    "\n",
    "# Calculate the number of batches\n",
    "num_batches = len(nodes) // batch_size + (1 if len(nodes) % batch_size else 0)\n",
    "\n",
    "percentage_to_reprocess = 0.03\n",
    "num_batches_to_reprocess = int(num_batches * percentage_to_reprocess)\n",
    "\n",
    "for i in tqdm(range(num_batches - num_batches_to_reprocess, num_batches), total=num_batches_to_reprocess):\n",
    "    batch = nodes[i * batch_size : (i + 1) * batch_size]\n",
    "    batch_embeddings = embed_model.get_text_embedding_batch(\n",
    "        [node.text for node in batch]\n",
    "    )\n",
    "    \n",
    "    for node, embedding in zip(batch, batch_embeddings):\n",
    "        node.embedding = embedding\n",
    "    \n",
    "    pinecone_vector_store.add(batch)"
   ]
  },
  {
   "cell_type": "code",
   "execution_count": null,
   "metadata": {},
   "outputs": [],
   "source": [
    "#pinecone_index.delete(delete_all=True)"
   ]
  },
  {
   "cell_type": "markdown",
   "metadata": {},
   "source": [
    "# GenAI request\n",
    "\n",
    "1. Convert query string into a vector \n",
    "2. Query pinecone to get LLM context\n",
    "3. Pass context to LLM to generate response\n",
    "4. Display response from LLM"
   ]
  },
  {
   "cell_type": "code",
   "execution_count": null,
   "metadata": {},
   "outputs": [],
   "source": [
    "from llama_index import VectorStoreIndex\n",
    "\n",
    "index = VectorStoreIndex.from_vector_store(pinecone_vector_store)\n",
    "query_engine = index.as_query_engine()\n",
    "query_str = \"Can you provide the id and image url of: Lenovo ThinkPad X100e\"\n",
    "response = query_engine.query(query_str)\n",
    "\n",
    "print(str(response))"
   ]
  }
 ],
 "metadata": {
  "kernelspec": {
   "display_name": "Python 3",
   "language": "python",
   "name": "python3"
  },
  "language_info": {
   "codemirror_mode": {
    "name": "ipython",
    "version": 3
   },
   "file_extension": ".py",
   "mimetype": "text/x-python",
   "name": "python",
   "nbconvert_exporter": "python",
   "pygments_lexer": "ipython3",
   "version": "3.11.3"
  },
  "orig_nbformat": 4
 },
 "nbformat": 4,
 "nbformat_minor": 2
}
